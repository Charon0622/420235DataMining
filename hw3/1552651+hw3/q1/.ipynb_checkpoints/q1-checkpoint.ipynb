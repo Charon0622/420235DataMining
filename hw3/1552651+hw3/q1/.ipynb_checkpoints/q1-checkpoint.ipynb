{
 "cells": [
  {
   "cell_type": "code",
   "execution_count": 124,
   "metadata": {},
   "outputs": [],
   "source": [
    "import pandas as pd\n",
    "import numpy as np\n",
    "from pandas import DataFrame\n",
    "import math\n",
    "from math import radians, cos, sin, asin, sqrt\n",
    "import sys\n",
    "import sklearn\n",
    "from sklearn.model_selection import train_test_split\n",
    "from sklearn.naive_bayes import GaussianNB"
   ]
  },
  {
   "cell_type": "code",
   "execution_count": 46,
   "metadata": {},
   "outputs": [],
   "source": [
    "# 左下角经纬度坐标\n",
    "lb_lon = 121.20120490000001\n",
    "lb_lat = 31.28175691\n",
    "\n",
    "# 右上角经纬度坐标\n",
    "rt_lon = 121.2183295\n",
    "rt_lat = 31.29339344\n",
    "\n",
    "# 栅格边长（左下角栅格坐标为 (0, 0) ）\n",
    "grid_len = 20"
   ]
  },
  {
   "cell_type": "code",
   "execution_count": 47,
   "metadata": {},
   "outputs": [],
   "source": [
    "# 根据两点经纬度计算两点间距离\n",
    "def haversine(lon1, lat1, lon2, lat2): # 经度1，纬度1，经度2，纬度2 （十进制度数）  \n",
    "    \"\"\" \n",
    "    Calculate the great circle distance between two points  \n",
    "    on the earth (specified in decimal degrees) \n",
    "    \"\"\"  \n",
    "    # 将十进制度数转化为弧度  \n",
    "    lon1, lat1, lon2, lat2 = map(radians, [lon1, lat1, lon2, lat2])  \n",
    "  \n",
    "    # haversine公式  \n",
    "    dlon = lon2 - lon1   \n",
    "    dlat = lat2 - lat1   \n",
    "    a = sin(dlat/2)**2 + cos(lat1) * cos(lat2) * sin(dlon/2)**2  \n",
    "    c = 2 * asin(sqrt(a))   \n",
    "    r = 6371 # 地球平均半径，单位为公里  \n",
    "    return c * r * 1000  "
   ]
  },
  {
   "cell_type": "code",
   "execution_count": 48,
   "metadata": {},
   "outputs": [
    {
     "data": {
      "text/plain": [
       "95"
      ]
     },
     "execution_count": 48,
     "metadata": {},
     "output_type": "execute_result"
    }
   ],
   "source": [
    "# 横向最大距离\n",
    "max_distance_x =  haversine(lb_lon, 0, rt_lon, 0)\n",
    "# 右上角栅格横坐标\n",
    "int(max_distance_x / 20)"
   ]
  },
  {
   "cell_type": "code",
   "execution_count": 49,
   "metadata": {},
   "outputs": [
    {
     "data": {
      "text/plain": [
       "64"
      ]
     },
     "execution_count": 49,
     "metadata": {},
     "output_type": "execute_result"
    }
   ],
   "source": [
    "# 纵向最大距离\n",
    "max_distance_y = haversine(0, lb_lat, 0, rt_lat)\n",
    "# 右上角栅格纵坐标\n",
    "int(max_distance_y / 20)"
   ]
  },
  {
   "cell_type": "code",
   "execution_count": 187,
   "metadata": {},
   "outputs": [],
   "source": [
    "# 将地图栅格化，将经纬度坐标转化为栅格坐标，左下角的栅格坐标是 (0, 0) ，右上角的栅格坐标是 (95, 64)\n",
    "# 再将栅格坐标转化为栅格ID（0 ～ 96 * 65 - 1 = 6239）共 6240 个栅格，4左下角的栅格ID是 0 ，右上角的栅格ID是 6239\n",
    "def ll_to_gridID(lon, lat):\n",
    "    # 左下角经纬度坐标，栅格边长\n",
    "    global lb_lon, lb_lat, grid_len\n",
    "    \n",
    "    # 将经纬度坐标转化为栅格坐标\n",
    "    X = int(haversine(lon, 0, lb_lon, 0) / grid_len) \n",
    "    Y = int(haversine(0, lat, 0, lb_lat) / grid_len)\n",
    "    \n",
    "    # 将栅格坐标转化为栅格ID：gridID = X + Y * 96\n",
    "    gridID = X + Y * 96\n",
    "    \n",
    "    return (gridID)"
   ]
  },
  {
   "cell_type": "code",
   "execution_count": 188,
   "metadata": {},
   "outputs": [],
   "source": [
    "# 合并两张表，用 data_2g 中的 RNCID_1，CellID_1 与 gongcan_2g 的 RNCID，CellID 匹配，将基站的经纬度信息加到 data_2g 中\n",
    "def merge_data_gongcan():\n",
    "    data_2g = pd.read_csv('../raw_data/data_2g.csv')\n",
    "    gongcan_2g = pd.read_csv('../raw_data/2g_gongcan.csv')\n",
    "    \n",
    "    for i in range(1, 8):\n",
    "        # 换掉 gongcan_2g 的列名用以和 data_2g merge\n",
    "        gongcan_2g.columns = ['RNCID_' + str(i), 'CellID_' + str(i), 'Lat_' + str(i), 'Lon_'+str(i)]    \n",
    "        data_2g = pd.merge(data_2g, gongcan_2g, how='left', on=['RNCID_' + str(i), 'CellID_' + str(i)])\n",
    "        \n",
    "    # 将 RSSI_1 ~ RSSI_7 的空缺值nan用 -sys.maxsize - 1 来代替\n",
    "    for j in range(1, 8):\n",
    "        data_2g['RSSI_' + str(j)] = data_2g['RSSI_' + str(j)].fillna(-sys.maxsize - 1)\n",
    "    \n",
    "    # 将其余空缺值nan替换为-1\n",
    "    data_2g = data_2g.fillna(-1)\n",
    "    return data_2g"
   ]
  },
  {
   "cell_type": "code",
   "execution_count": 189,
   "metadata": {},
   "outputs": [],
   "source": [
    "# 根据MR数据的GPS加上栅格ID\n",
    "def add_gridID(data):\n",
    "    data['GridID'] = data.apply(lambda x: ll_to_gridID(x.Longitude, x.Latitude), axis = 1)\n",
    "    return data"
   ]
  },
  {
   "cell_type": "code",
   "execution_count": 190,
   "metadata": {},
   "outputs": [],
   "source": [
    "# 随机选取80%的数据记录作为训练集，余下20%作为测试集合\n",
    "def data_train_test_split(data):\n",
    "    # 样本特征集（将 DataFrame 转化为 list ）\n",
    "    X = data[['Lon_1', 'Lat_1', 'RSSI_1', \n",
    "              'Lon_2', 'Lat_2', 'RSSI_2', \n",
    "              'Lon_3', 'Lat_3', 'RSSI_3', \n",
    "              'Lon_4', 'Lat_4', 'RSSI_4',\n",
    "              'Lon_5', 'Lat_5', 'RSSI_5',\n",
    "              'Lon_6', 'Lat_6', 'RSSI_6',\n",
    "              'Lon_7', 'Lat_7', 'RSSI_7',\n",
    "             ]].values\n",
    "    # 样本结果（将 DataFrame 转化为 list ）\n",
    "    y = data['GridID'].values\n",
    "    \n",
    "    # 随机选取80%的数据记录作为训练集，余下20%作为测试集合\n",
    "    X_train, X_test, y_train, y_test = train_test_split(X, y, test_size=0.2, random_state=None)\n",
    "    \n",
    "    return X_train, X_test, y_train, y_test"
   ]
  },
  {
   "cell_type": "code",
   "execution_count": 204,
   "metadata": {},
   "outputs": [],
   "source": [
    "# 高斯朴素贝叶斯分类器Gaussian Naive Bayes (GaussianNB)\n",
    "def gaussiannb(X_train, X_test, y_train):\n",
    "    gnb = GaussianNB()\n",
    "    y_pred = gnb.fit(X_train, y_train).predict(X_test)\n",
    "    return y_pred"
   ]
  },
  {
   "cell_type": "code",
   "execution_count": 205,
   "metadata": {},
   "outputs": [],
   "source": [
    "def main():\n",
    "    # 合并两张表\n",
    "    data = merge_data_gongcan()\n",
    "    \n",
    "    # 根据MR数据的GPS换算成栅格ID作为结果\n",
    "    data = add_gridID(data)\n",
    "    \n",
    "    # 随机选取80%的数据记录作为训练集，余下20%作为测试集合\n",
    "    X_train, X_test, y_train, y_test = data_train_test_split(data)\n",
    "    \n",
    "    # 高斯朴素贝叶斯分类器Gaussian Naive Bayes (GaussianNB) 测试结果\n",
    "    y_pred_gnb = gaussiannb(X_train, X_test, y_train)   \n",
    "    \n",
    "    return y_pred_gnb"
   ]
  },
  {
   "cell_type": "code",
   "execution_count": 206,
   "metadata": {},
   "outputs": [],
   "source": [
    "y_pred_gnb = main()"
   ]
  },
  {
   "cell_type": "code",
   "execution_count": null,
   "metadata": {},
   "outputs": [],
   "source": []
  }
 ],
 "metadata": {
  "kernelspec": {
   "display_name": "Python 3",
   "language": "python",
   "name": "python3"
  },
  "language_info": {
   "codemirror_mode": {
    "name": "ipython",
    "version": 3
   },
   "file_extension": ".py",
   "mimetype": "text/x-python",
   "name": "python",
   "nbconvert_exporter": "python",
   "pygments_lexer": "ipython3",
   "version": "3.6.1"
  }
 },
 "nbformat": 4,
 "nbformat_minor": 2
}
