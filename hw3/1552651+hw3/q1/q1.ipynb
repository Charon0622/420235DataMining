{
 "cells": [
  {
   "cell_type": "code",
   "execution_count": 1,
   "metadata": {},
   "outputs": [],
   "source": [
    "import pandas as pd\n",
    "import numpy as np\n",
    "from pandas import DataFrame\n",
    "import math\n",
    "from math import radians, cos, sin, asin, sqrt\n",
    "import sys\n",
    "import sklearn\n",
    "from sklearn.model_selection import train_test_split\n",
    "from sklearn.naive_bayes import GaussianNB\n",
    "from sklearn.neighbors import KNeighborsClassifier\n",
    "from sklearn import tree\n",
    "from sklearn.ensemble import RandomForestClassifier, AdaBoostClassifier, BaggingClassifier, GradientBoostingClassifier"
   ]
  },
  {
   "cell_type": "code",
   "execution_count": 2,
   "metadata": {},
   "outputs": [],
   "source": [
    "# 左下角经纬度坐标\n",
    "lb_lon = 121.20120490000001\n",
    "lb_lat = 31.28175691\n",
    "\n",
    "# 上角经纬度坐标\n",
    "rt_lon = 121.2183295\n",
    "rt_lat = 31.29339344\n",
    "\n",
    "# 栅格边长（左下角栅格坐标为 (0, 0) ）\n",
    "grid_len = 20"
   ]
  },
  {
   "cell_type": "code",
   "execution_count": 35,
   "metadata": {},
   "outputs": [],
   "source": [
    "# 根据两点经纬度计算两点间距离\n",
    "def haversine(lon1, lat1, lon2, lat2): # 经度1，纬度1，经度2，纬度2 （十进制度数）  \n",
    "    \"\"\" \n",
    "    Calculate the great circle distance between two points  \n",
    "    on the earth (specified in decimal degrees) \n",
    "    \"\"\"  \n",
    "    # 将十进制度数转化为弧度  \n",
    "    lon1, lat1, lon2, lat2 = map(radians, [lon1, lat1, lon2, lat2])  \n",
    "  \n",
    "    # haversine公式  \n",
    "    dlon = lon2 - lon1   \n",
    "    dlat = lat2 - lat1   \n",
    "    a = sin(dlat/2)**2 + cos(lat1) * cos(lat2) * sin(dlon/2)**2  \n",
    "    c = 2 * asin(sqrt(a))   \n",
    "    r = 6371 # 地球平均半径，单位为公里  \n",
    "    return c * r * 1000  "
   ]
  },
  {
   "cell_type": "code",
   "execution_count": 4,
   "metadata": {},
   "outputs": [
    {
     "data": {
      "text/plain": [
       "81"
      ]
     },
     "execution_count": 4,
     "metadata": {},
     "output_type": "execute_result"
    }
   ],
   "source": [
    "# 横向最大距离\n",
    "max_distance_x =  haversine(lb_lon, lb_lat, rt_lon, lb_lat)\n",
    "# 右上角栅格横坐标\n",
    "int(max_distance_x / 20)"
   ]
  },
  {
   "cell_type": "code",
   "execution_count": 5,
   "metadata": {},
   "outputs": [
    {
     "data": {
      "text/plain": [
       "64"
      ]
     },
     "execution_count": 5,
     "metadata": {},
     "output_type": "execute_result"
    }
   ],
   "source": [
    "# 纵向最大距离\n",
    "max_distance_y = haversine(lb_lon, lb_lat, lb_lon, rt_lat)\n",
    "# 右上角栅格纵坐标\n",
    "int(max_distance_y / 20)"
   ]
  },
  {
   "cell_type": "code",
   "execution_count": 6,
   "metadata": {},
   "outputs": [],
   "source": [
    "# 将地图栅格化，将经纬度坐标转化为栅格坐标，左下角的栅格坐标是 (0, 0) ，右上角的栅格坐标是 (81, 64)\n",
    "# 再将栅格坐标转化为栅格ID（0 ～ 82 * 65 - 1 = 5329）共 5330 个栅格，左下角的栅格ID是 0 ，右上角的栅格ID是 5329\n",
    "def ll_to_gridID(lon, lat):\n",
    "    # 左下角经纬度坐标，栅格边长\n",
    "    global lb_lon, lb_lat, grid_len\n",
    "    \n",
    "    # 将经纬度坐标转化为栅格坐标\n",
    "    X = int(haversine(lon, lb_lat, lb_lon, lb_lat) / grid_len) \n",
    "    Y = int(haversine(lb_lon, lat, lb_lon, lb_lat) / grid_len)\n",
    "    \n",
    "    # 将栅格坐标转化为栅格ID：gridID = X + Y * 82\n",
    "    gridID = X + Y * 82\n",
    "    \n",
    "    return (gridID)"
   ]
  },
  {
   "cell_type": "code",
   "execution_count": 7,
   "metadata": {},
   "outputs": [],
   "source": [
    "# 将栅格ID转化为栅格中心经纬度\n",
    "def gridID_to_ll(gridID):\n",
    "    # 左下角经纬度坐标，右上角经纬度坐标，栅格边长\n",
    "    global lb_lon, lb_lat, rt_lon, rt_lat\n",
    "    \n",
    "    # 将栅格ID转化为栅格坐标\n",
    "    X = gridID % 82\n",
    "    Y = int(gridID / 82)\n",
    "    \n",
    "    # 将栅格坐标转化为经纬度坐标\n",
    "    # 栅格的边和栅格的中心位置将横向长度划分为 82 * 2 = 164 份\n",
    "    # 栅格的边和栅格的中心位置将纵向长度划分为 65 * 2 = 130 份\n",
    "    # 每一份的经度差：\n",
    "    delta_lon = (rt_lon - lb_lon) / 164\n",
    "    # 每一份的纬度差：\n",
    "    delta_lat = (rt_lat - lb_lat) / 130\n",
    "    # 栅格坐标横坐标为X的栅格的中心点经度：\n",
    "    lon = lb_lon + (1 + 2 * X) * delta_lon\n",
    "    # 栅格坐标纵坐标为Y的栅格的中心点经度：\n",
    "    lat = lb_lat + (1 + 2 * Y) * delta_lat\n",
    "    \n",
    "    return [lon, lat]"
   ]
  },
  {
   "cell_type": "code",
   "execution_count": 8,
   "metadata": {},
   "outputs": [],
   "source": [
    "# 合并两张表，用 data_2g 中的 RNCID_1，CellID_1 与 gongcan_2g 的 RNCID，CellID 匹配，将基站的经纬度信息加到 data_2g 中\n",
    "def merge_data_gongcan():\n",
    "    data_2g = pd.read_csv('../raw_data/data_2g.csv')\n",
    "    gongcan_2g = pd.read_csv('../raw_data/2g_gongcan.csv')\n",
    "    \n",
    "    for i in range(1, 8):\n",
    "        # 换掉 gongcan_2g 的列名用以和 data_2g merge\n",
    "        gongcan_2g.columns = ['RNCID_' + str(i), 'CellID_' + str(i), 'Lat_' + str(i), 'Lon_' + str(i)]    \n",
    "        data_2g = pd.merge(data_2g, gongcan_2g, how='left', on=['RNCID_' + str(i), 'CellID_' + str(i)])\n",
    "        \n",
    "    # 将 RSSI_1 ~ RSSI_7 的空缺值nan用 -sys.maxsize - 1 来代替\n",
    "    for j in range(1, 8):\n",
    "        data_2g['RSSI_' + str(j)] = data_2g['RSSI_' + str(j)].fillna(-sys.maxsize - 1)\n",
    "    \n",
    "    # 将其余空缺值nan替换为-1\n",
    "    data_2g = data_2g.fillna(-1)\n",
    "    return data_2g"
   ]
  },
  {
   "cell_type": "code",
   "execution_count": 9,
   "metadata": {},
   "outputs": [],
   "source": [
    "# 根据MR数据的GPS加上栅格ID\n",
    "def add_gridID(data):\n",
    "    data['GridID'] = data.apply(lambda x: ll_to_gridID(x.Longitude, x.Latitude), axis = 1)\n",
    "    return data"
   ]
  },
  {
   "cell_type": "code",
   "execution_count": 10,
   "metadata": {},
   "outputs": [],
   "source": [
    "# 随机选取80%的数据记录作为训练集，余下20%作为测试集合\n",
    "def data_train_test_split(data):\n",
    "    # 样本特征集（将 DataFrame 转化为 list）\n",
    "    X = data[['Lon_1', 'Lat_1', 'RSSI_1', \n",
    "              'Lon_2', 'Lat_2', 'RSSI_2', \n",
    "              'Lon_3', 'Lat_3', 'RSSI_3', \n",
    "              'Lon_4', 'Lat_4', 'RSSI_4',\n",
    "              'Lon_5', 'Lat_5', 'RSSI_5',\n",
    "              'Lon_6', 'Lat_6', 'RSSI_6',\n",
    "              'Lon_7', 'Lat_7', 'RSSI_7',\n",
    "             ]].values\n",
    "    # 样本结果（将 DataFrame 转化为 list ）\n",
    "    y = data['GridID'].values\n",
    "    \n",
    "    # 随机选取80%的数据记录作为训练集，余下20%作为测试集合\n",
    "    X_train, X_test, y_train, y_test = train_test_split(X, y, test_size=0.2, random_state=None)\n",
    "    \n",
    "    return X_train, X_test, y_train, y_test"
   ]
  },
  {
   "cell_type": "code",
   "execution_count": 100,
   "metadata": {},
   "outputs": [],
   "source": [
    "# 7个分类器\n",
    "classifier_models = {\n",
    "    # 高斯朴素贝叶斯分类器 Gaussian Naive Bayes (GaussianNB)\n",
    "    'GaussianNB': GaussianNB(),\n",
    "    # K近邻分类器 KNeighborsClassifier\n",
    "    'KNeighbors': KNeighborsClassifier(n_neighbors=2),\n",
    "    # 决策树分类器 DecisionTreeClassifier\n",
    "    'DecisionTree': tree.DecisionTreeClassifier(criterion='entropy', max_depth=50),\n",
    "    # 随机森林 RandomForestClassifier\n",
    "    'RandomForest': RandomForestClassifier(max_depth=3, n_estimators=45),\n",
    "    # AdaBoost AdaBoostClassifier\n",
    "    'AdaBoost': AdaBoostClassifier(n_estimators=150, learning_rate = 0.1),\n",
    "    # Bagging meta-estimator（Bagging 元估计器）BaggingClassifier\n",
    "    'Bagging': BaggingClassifier(n_estimators=40),\n",
    "    # GBDT（梯度树提升）GradientBoostingClassifier\n",
    "    'GradientBoosting': GradientBoostingClassifier(n_estimators=40, max_depth=10)\n",
    "}"
   ]
  },
  {
   "cell_type": "code",
   "execution_count": 101,
   "metadata": {},
   "outputs": [],
   "source": [
    "# 传入不同的分类器，训练并且作出预测\n",
    "def train_classifier_and_predict(classifier_model, X_train, X_test, y_train):\n",
    "    clf = classifier_model\n",
    "    y_pred = clf.fit(X_train, y_train).predict(X_test)\n",
    "    return y_pred"
   ]
  },
  {
   "cell_type": "code",
   "execution_count": 78,
   "metadata": {},
   "outputs": [],
   "source": [
    "# 计算预测位置和证实位置的误差（采用欧式距离），按照计算误差从小到大进行排序\n",
    "# 返回小到大进行排序的误差\n",
    "def calculate_error_and_sort(y_pred, y_test):\n",
    "    \n",
    "    # 将预测结果里的栅格ID转化为经纬度坐标\n",
    "    y_pred = list(map(gridID_to_ll, y_pred))\n",
    "    # 将测试结果里的栅格ID转化为经纬度坐标\n",
    "    y_test = list(map(gridID_to_ll, y_test))\n",
    "    \n",
    "    # 将预测结果和测试结果的经纬度坐标放在同一个list里，形成一个二维数组\n",
    "    temp = [y_pred[i] + y_test[i] for i in range(min(len(y_pred),len(y_test)))]\n",
    "    \n",
    "    # 计算各个误差\n",
    "    errors = [haversine(x[0], x[1], x[2], x[3]) for x in temp]\n",
    "    # 按照计算误差从小到大进行排序\n",
    "    sorted_errors = sorted(errors)\n",
    "    \n",
    "    return sorted_errors"
   ]
  },
  {
   "cell_type": "code",
   "execution_count": 80,
   "metadata": {},
   "outputs": [],
   "source": [
    "# 计算10次误差的平均值（即平均误差）\n",
    "def calculate_avg_errors(errors_list):\n",
    "    errors_avg_list = []\n",
    "    for i in range(len(errors_list[0])):\n",
    "        errors_avg_list.append(np.mean([x[i] for x in errors_list]))\n",
    "    return  errors_avg_list"
   ]
  },
  {
   "cell_type": "code",
   "execution_count": 91,
   "metadata": {},
   "outputs": [],
   "source": [
    "# 重复10次训练集/测试集的选择和误差计算，求平均误差，绘制平均误差概率分布图\n",
    "def train_classifier_and_predict_and_error(data):\n",
    "   \n",
    "    # 用以存储10次测试集结果\n",
    "    y_test_list = []\n",
    "    \n",
    "    # 用以存储不同分类器的10次预测结果\n",
    "    y_pred_gnb_list = []\n",
    "    y_pred_knc_list = []\n",
    "    y_pred_dtc_list = []\n",
    "    y_pred_rfc_list = []\n",
    "    y_pred_abc_list = []\n",
    "    y_pred_bc_list = []\n",
    "    y_pred_gbc_list = []\n",
    "    \n",
    "    # 用以存储不同分类器的10次误差\n",
    "    errors_gnb_list = []\n",
    "    errors_knc_list = []\n",
    "    errors_dtc_list = []\n",
    "    errors_rfc_list = []\n",
    "    errors_abc_list = []\n",
    "    errors_bc_list = []\n",
    "    errors_gbc_list = []\n",
    "\n",
    "    # 重复10次\n",
    "    for i in range(0, 10):\n",
    "\n",
    "        # 随机选取80%的数据记录作为训练集，余下20%作为测试集合\n",
    "        X_train, X_test, y_train, y_test = data_train_test_split(data)\n",
    "        y_test_list.append(y_test)\n",
    "\n",
    "        # 高斯朴素贝叶斯分类器 Gaussian Naive Bayes (GaussianNB) 预测结果\n",
    "        y_pred_gnb = gaussian_nb(X_train, X_test, y_train)\n",
    "        # 存储本次预测结果\n",
    "        y_pred_gnb_list.append(y_pred_gnb)    \n",
    "        # 计算预测位置和证实位置的误差（采用欧式距离），按照计算误差从小到大进行排序\n",
    "        errors_gnb = calculate_error_and_sort(y_pred_gnb, y_test)\n",
    "        # 存储本次误差排序\n",
    "        errors_gnb_list.append(errors_gnb)\n",
    "        \n",
    "        # K近邻分类器 KNeighborsClassifier 预测结果\n",
    "        y_pred_knc = k_neighbors_classifier(X_train, X_test, y_train)\n",
    "        # 存储本次预测结果\n",
    "        y_pred_knc_list.append(y_pred_knc)    \n",
    "        # 计算预测位置和证实位置的误差（采用欧式距离），按照计算误差从小到大进行排序\n",
    "        errors_knc = calculate_error_and_sort(y_pred_knc, y_test)\n",
    "        # 存储本次误差排序\n",
    "        errors_knc_list.append(errors_knc)\n",
    "\n",
    "        # 决策树分类器 DecisionTreeClassifier 预测结果 \n",
    "        y_pred_dtc = decision_tree_classifier(X_train, X_test, y_train)\n",
    "         # 存储本次预测结果\n",
    "        y_pred_dtc_list.append(y_pred_dtc)    \n",
    "        # 计算预测位置和证实位置的误差（采用欧式距离），按照计算误差从小到大进行排序\n",
    "        errors_dtc = calculate_error_and_sort(y_pred_dtc, y_test)\n",
    "        # 存储本次误差排序\n",
    "        errors_dtc_list.append(errors_dtc)\n",
    "\n",
    "        # 随机森林 RandomForestClassifier 预测结果 \n",
    "        y_pred_rfc = random_forest_classifier(X_train, X_test, y_train)\n",
    "        # 存储本次预测结果\n",
    "        y_pred_rfc_list.append(y_pred_rfc)    \n",
    "        # 计算预测位置和证实位置的误差（采用欧式距离），按照计算误差从小到大进行排序\n",
    "        errors_rfc = calculate_error_and_sort(y_pred_rfc, y_test)\n",
    "        # 存储本次误差排序\n",
    "        errors_rfc_list.append(errors_rfc)\n",
    "\n",
    "        # AdaBoost AdaBoostClassifier 预测结果\n",
    "        y_pred_abc = ada_boost_classifier(X_train, X_test, y_train)\n",
    "        # 存储本次预测结果\n",
    "        y_pred_abc_list.append(y_pred_abc)    \n",
    "        # 计算预测位置和证实位置的误差（采用欧式距离），按照计算误差从小到大进行排序\n",
    "        errors_abc = calculate_error_and_sort(y_pred_abc, y_test)\n",
    "        # 存储本次误差排序\n",
    "        errors_abc_list.append(errors_abc)\n",
    "\n",
    "        # Bagging meta-estimator（Bagging 元估计器）BaggingClassifier 预测结果\n",
    "        y_pred_bc = bagging_classifier(X_train, X_test, y_train)\n",
    "        # 存储本次预测结果\n",
    "        y_pred_bc_list.append(y_pred_bc)    \n",
    "        # 计算预测位置和证实位置的误差（采用欧式距离），按照计算误差从小到大进行排序\n",
    "        errors_bc = calculate_error_and_sort(y_pred_bc, y_test)\n",
    "        # 存储本次误差排序\n",
    "        errors_bc_list.append(errors_bc)\n",
    "\n",
    "        # GBDT（梯度树提升）GradientBoostingClassifier 预测结果\n",
    "        y_pred_gbc = gradient_boosting_classifier(X_train, X_test, y_train)\n",
    "        # 存储本次预测结果\n",
    "        y_pred_gbc_list.append(y_pred_gbc)    \n",
    "        # 计算预测位置和证实位置的误差（采用欧式距离），按照计算误差从小到大进行排序\n",
    "        errors_gbc = calculate_error_and_sort(y_pred_gbc, y_test)\n",
    "        # 存储本次误差排序\n",
    "        errors_gbc_list.append(errors_gbc)\n",
    "        \n",
    "        \n",
    "    # 计算10次误差的平均值\n",
    "    # 高斯朴素贝叶斯分类器 Gaussian Naive Bayes (GaussianNB) 平均误差\n",
    "    avg_errors_gnb_list = calculate_avg_errors(errors_gnb_list)\n",
    "    # K近邻分类器 KNeighborsClassifier 平均误差\n",
    "    avg_errors_knc_list = calculate_avg_errors(errors_knc_list)\n",
    "    # 决策树分类器 DecisionTreeClassifier 平均误差\n",
    "    avg_errors_dtc_list = calculate_avg_errors(errors_dtc_list)\n",
    "    # 随机森林 RandomForestClassifier 平均误差\n",
    "    avg_errors_rfc_list = calculate_avg_errors(errors_rfc_list)\n",
    "    # AdaBoost AdaBoostClassifier 平均误差\n",
    "    avg_errors_abc_list = calculate_avg_errors(errors_abc_list)\n",
    "    # Bagging meta-estimator（Bagging 元估计器）BaggingClassifier 平均误差\n",
    "    avg_errors_bc_list = calculate_avg_errors(errors_bc_list)\n",
    "    # GBDT（梯度树提升）GradientBoostingClassifier 平均误差\n",
    "    avg_errors_gbc_list = calculate_avg_errors(errors_gbc_list)\n",
    "    \n",
    "    # 返回10次预测结果和平均误差\n",
    "    return y_pred_gnb_list, \\\n",
    "            y_pred_knc_list, \\\n",
    "            y_pred_dtc_list, \\\n",
    "            y_pred_rfc_list, \\\n",
    "            y_pred_abc_list, \\\n",
    "            y_pred_bc_list, \\\n",
    "            y_pred_gbc_list, \\\n",
    "            avg_errors_gnb_list, \\\n",
    "            avg_errors_knc_list, \\\n",
    "            avg_errors_dtc_list, \\\n",
    "            avg_errors_rfc_list, \\\n",
    "            avg_errors_abc_list, \\\n",
    "            avg_errors_bc_list, \\\n",
    "            avg_errors_gbc_list    "
   ]
  },
  {
   "cell_type": "code",
   "execution_count": 96,
   "metadata": {},
   "outputs": [],
   "source": [
    "def main():\n",
    "    # 合并两张表\n",
    "    data = merge_data_gongcan()\n",
    "    \n",
    "    # 根据MR数据的GPS换算成栅格ID作为结果\n",
    "    data = add_gridID(data)\n",
    "    X_train, X_test, y_train, y_test = data_train_test_split(data)\n",
    "    pred = train_classifier_and_predict(classifier_models['GaussianNB'], X_train, X_test, y_train)\n",
    "    \n",
    "    return pred"
   ]
  },
  {
   "cell_type": "code",
   "execution_count": 97,
   "metadata": {},
   "outputs": [],
   "source": [
    "pred = main()"
   ]
  },
  {
   "cell_type": "code",
   "execution_count": null,
   "metadata": {},
   "outputs": [],
   "source": []
  }
 ],
 "metadata": {
  "kernelspec": {
   "display_name": "Python 3",
   "language": "python",
   "name": "python3"
  },
  "language_info": {
   "codemirror_mode": {
    "name": "ipython",
    "version": 3
   },
   "file_extension": ".py",
   "mimetype": "text/x-python",
   "name": "python",
   "nbconvert_exporter": "python",
   "pygments_lexer": "ipython3",
   "version": "3.6.1"
  }
 },
 "nbformat": 4,
 "nbformat_minor": 2
}
