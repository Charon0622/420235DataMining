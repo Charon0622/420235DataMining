{
 "cells": [
  {
   "cell_type": "code",
   "execution_count": 64,
   "metadata": {},
   "outputs": [],
   "source": [
    "import pandas as pd\n",
    "import numpy as np\n",
    "from pandas import DataFrame\n",
    "import math\n",
    "from math import radians, cos, sin, asin, sqrt\n",
    "import sys"
   ]
  },
  {
   "cell_type": "code",
   "execution_count": 46,
   "metadata": {},
   "outputs": [],
   "source": [
    "# 左下角经纬度坐标\n",
    "lb_lon = 121.20120490000001\n",
    "lb_lat = 31.28175691\n",
    "\n",
    "# 右上角经纬度坐标\n",
    "rt_lon = 121.2183295\n",
    "rt_lat = 31.29339344\n",
    "\n",
    "# 栅格边长（左下角栅格坐标为 (0, 0) ）\n",
    "grid_len = 20"
   ]
  },
  {
   "cell_type": "code",
   "execution_count": 47,
   "metadata": {},
   "outputs": [],
   "source": [
    "# 根据两点经纬度计算两点间距离\n",
    "def haversine(lon1, lat1, lon2, lat2): # 经度1，纬度1，经度2，纬度2 （十进制度数）  \n",
    "    \"\"\" \n",
    "    Calculate the great circle distance between two points  \n",
    "    on the earth (specified in decimal degrees) \n",
    "    \"\"\"  \n",
    "    # 将十进制度数转化为弧度  \n",
    "    lon1, lat1, lon2, lat2 = map(radians, [lon1, lat1, lon2, lat2])  \n",
    "  \n",
    "    # haversine公式  \n",
    "    dlon = lon2 - lon1   \n",
    "    dlat = lat2 - lat1   \n",
    "    a = sin(dlat/2)**2 + cos(lat1) * cos(lat2) * sin(dlon/2)**2  \n",
    "    c = 2 * asin(sqrt(a))   \n",
    "    r = 6371 # 地球平均半径，单位为公里  \n",
    "    return c * r * 1000  "
   ]
  },
  {
   "cell_type": "code",
   "execution_count": 48,
   "metadata": {},
   "outputs": [
    {
     "data": {
      "text/plain": [
       "95"
      ]
     },
     "execution_count": 48,
     "metadata": {},
     "output_type": "execute_result"
    }
   ],
   "source": [
    "# 横向最大距离\n",
    "max_distance_x =  haversine(lb_lon, 0, rt_lon, 0)\n",
    "# 右上角栅格横坐标\n",
    "int(max_distance_x / 20)"
   ]
  },
  {
   "cell_type": "code",
   "execution_count": 49,
   "metadata": {},
   "outputs": [
    {
     "data": {
      "text/plain": [
       "64"
      ]
     },
     "execution_count": 49,
     "metadata": {},
     "output_type": "execute_result"
    }
   ],
   "source": [
    "# 纵向最大距离\n",
    "max_distance_y = haversine(0, lb_lat, 0, rt_lat)\n",
    "# 右上角栅格纵坐标\n",
    "int(max_distance_y / 20)"
   ]
  },
  {
   "cell_type": "code",
   "execution_count": 50,
   "metadata": {},
   "outputs": [],
   "source": [
    "# 将地图栅格化，将经纬度坐标转化为栅格坐标，左下角的栅格坐标是 (0, 0) ，右上角的栅格坐标是 (95, 64)\n",
    "def ll_to_grid(lon, lat):\n",
    "    # 左下角经纬度坐标，栅格边长\n",
    "    global lb_lon, lb_lat, grid_len\n",
    "    X = int(haversine(lon, 0, lb_lon, 0) / grid_len) \n",
    "    Y = int(haversine(0, lat, 0, lb_lat) / grid_len)\n",
    "    return (X, Y)"
   ]
  },
  {
   "cell_type": "code",
   "execution_count": 82,
   "metadata": {},
   "outputs": [],
   "source": [
    "# 合并两张表，用 data_2g 中的 RNCID_1，CellID_1 与 gongcan_2g 的 RNCID，CellID 匹配，将基站的经纬度信息加到 data_2g 中\n",
    "def merge_data_gongcan():\n",
    "    data_2g = pd.read_csv('../raw_data/data_2g.csv')\n",
    "    gongcan_2g = pd.read_csv('../raw_data/2g_gongcan.csv')\n",
    "    \n",
    "    for i in range(1, 8):\n",
    "        # 换掉 gongcan_2g 的列名用以和 data_2g merge\n",
    "        gongcan_2g.columns = ['RNCID_' + str(i), 'CellID_' + str(i), 'Lat_' + str(i), 'Lon_'+str(i)]    \n",
    "        data_2g = pd.merge(data_2g, gongcan_2g, how='left', on=['RNCID_' + str(i), 'CellID_' + str(i)])\n",
    "        \n",
    "    # 将 RSSI_1 ~ RSSI_7 的空缺值nan用 -sys.maxsize - 1 来代替\n",
    "    for j in range(1, 8):\n",
    "        data_2g['RSSI_' + str(j)] = data_2g['RSSI_' + str(j)].fillna(-sys.maxsize - 1)\n",
    "    \n",
    "    # 将其余空缺值nan替换为-1\n",
    "    data_2g = data_2g.fillna(-1)\n",
    "    return data_2g"
   ]
  },
  {
   "cell_type": "code",
   "execution_count": 83,
   "metadata": {},
   "outputs": [],
   "source": [
    "# 根据MR数据的GPS加上栅格ID\n",
    "def add_gridID(data):\n",
    "    data['GridID'] = data.apply(lambda x: ll_to_grid(x.Longitude, x.Latitude), axis = 1)\n",
    "    return data"
   ]
  },
  {
   "cell_type": "code",
   "execution_count": 84,
   "metadata": {},
   "outputs": [],
   "source": [
    "def main():\n",
    "    # 合并两张表\n",
    "    data = merge_data_gongcan()\n",
    "    # 根据MR数据的GPS加上栅格ID\n",
    "    data = add_gridID(data)\n",
    "    \n",
    "    return data"
   ]
  },
  {
   "cell_type": "code",
   "execution_count": 85,
   "metadata": {},
   "outputs": [],
   "source": [
    "data = main()"
   ]
  },
  {
   "cell_type": "code",
   "execution_count": 90,
   "metadata": {},
   "outputs": [
    {
     "data": {
      "text/plain": [
       "0       31.291805\n",
       "1       31.289647\n",
       "2       31.288649\n",
       "3       -1.000000\n",
       "4       -1.000000\n",
       "5       -1.000000\n",
       "6       -1.000000\n",
       "7       -1.000000\n",
       "8       -1.000000\n",
       "9       -1.000000\n",
       "10      31.291805\n",
       "11      31.291805\n",
       "12      31.291805\n",
       "13      31.289351\n",
       "14      -1.000000\n",
       "15      31.289647\n",
       "16      31.289647\n",
       "17      -1.000000\n",
       "18      -1.000000\n",
       "19      -1.000000\n",
       "20      -1.000000\n",
       "21      -1.000000\n",
       "22      -1.000000\n",
       "23      -1.000000\n",
       "24      -1.000000\n",
       "25      -1.000000\n",
       "26      -1.000000\n",
       "27      -1.000000\n",
       "28      -1.000000\n",
       "29      -1.000000\n",
       "          ...    \n",
       "6066    -1.000000\n",
       "6067    -1.000000\n",
       "6068    -1.000000\n",
       "6069    -1.000000\n",
       "6070    -1.000000\n",
       "6071    -1.000000\n",
       "6072    -1.000000\n",
       "6073    -1.000000\n",
       "6074    -1.000000\n",
       "6075    -1.000000\n",
       "6076    -1.000000\n",
       "6077    -1.000000\n",
       "6078    -1.000000\n",
       "6079    -1.000000\n",
       "6080    -1.000000\n",
       "6081    -1.000000\n",
       "6082    -1.000000\n",
       "6083    -1.000000\n",
       "6084    -1.000000\n",
       "6085    31.288361\n",
       "6086    -1.000000\n",
       "6087    -1.000000\n",
       "6088    31.276852\n",
       "6089    31.276852\n",
       "6090    -1.000000\n",
       "6091    -1.000000\n",
       "6092    -1.000000\n",
       "6093    -1.000000\n",
       "6094    -1.000000\n",
       "6095    -1.000000\n",
       "Name: Lat_7, Length: 6096, dtype: float64"
      ]
     },
     "execution_count": 90,
     "metadata": {},
     "output_type": "execute_result"
    }
   ],
   "source": [
    "data['Lat_7']"
   ]
  },
  {
   "cell_type": "code",
   "execution_count": null,
   "metadata": {},
   "outputs": [],
   "source": []
  }
 ],
 "metadata": {
  "kernelspec": {
   "display_name": "Python 3",
   "language": "python",
   "name": "python3"
  },
  "language_info": {
   "codemirror_mode": {
    "name": "ipython",
    "version": 3
   },
   "file_extension": ".py",
   "mimetype": "text/x-python",
   "name": "python",
   "nbconvert_exporter": "python",
   "pygments_lexer": "ipython3",
   "version": "3.6.1"
  }
 },
 "nbformat": 4,
 "nbformat_minor": 2
}
